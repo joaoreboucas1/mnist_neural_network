{
 "cells": [
  {
   "attachments": {},
   "cell_type": "markdown",
   "metadata": {},
   "source": [
    "# MNIST Analysis\n",
    "The MNIST data files can be downloaded from [this website](http://yann.lecun.com/exdb/mnist/). One little detail: the data files are in the `.idx` format. Fortunately, there is a Python utility we can use to convert the data to `numpy` arrays: the `idx2numpy` library."
   ]
  },
  {
   "cell_type": "code",
   "execution_count": 1,
   "metadata": {},
   "outputs": [],
   "source": [
    "import numpy as np\n",
    "import matplotlib.pyplot as plt\n",
    "import keras\n",
    "import idx2numpy"
   ]
  },
  {
   "cell_type": "code",
   "execution_count": 2,
   "metadata": {},
   "outputs": [],
   "source": [
    "train_images = idx2numpy.convert_from_file('./data/train-images-idx3-ubyte/train-images.idx3-ubyte')\n",
    "train_labels = idx2numpy.convert_from_file('./data/train-labels-idx1-ubyte/train-labels.idx1-ubyte')\n",
    "test_images = idx2numpy.convert_from_file('./data/t10k-images-idx3-ubyte/t10k-images.idx3-ubyte')\n",
    "test_labels = idx2numpy.convert_from_file('./data/t10k-labels-idx1-ubyte/t10k-labels.idx1-ubyte')"
   ]
  },
  {
   "cell_type": "code",
   "execution_count": 3,
   "metadata": {},
   "outputs": [],
   "source": [
    "norm_train_images = train_images/255"
   ]
  },
  {
   "cell_type": "code",
   "execution_count": 22,
   "metadata": {},
   "outputs": [],
   "source": [
    "# Turning the labels into NN outputs\n",
    "train_labels_vec = np.zeros((len(train_labels), 10))\n",
    "for i, label in enumerate(train_labels):\n",
    "    train_labels_vec[i, label] = 1"
   ]
  },
  {
   "cell_type": "code",
   "execution_count": 7,
   "metadata": {},
   "outputs": [
    {
     "data": {
      "image/png": "[encoded data removed]",
      "text/plain": [
       "<Figure size 640x480 with 1 Axes>"
      ]
     },
     "metadata": {},
     "output_type": "display_data"
    }
   ],
   "source": [
    "# I want to be able to visualize the images\n",
    "i = 20\n",
    "plt.imshow(test_images[i], cmap='gray_r')\n",
    "plt.title(f\"Label: {test_labels[i]}\")\n",
    "plt.show()"
   ]
  },
  {
   "attachments": {},
   "cell_type": "markdown",
   "metadata": {},
   "source": [
    "Now, we can start defining a model. In the MNIST website, there is a table with different models and scores. Let's use one of them: the 2-layer NN, 300 hidden units, mean square error. The reported test error rate of 4.9%."
   ]
  },
  {
   "cell_type": "code",
   "execution_count": 23,
   "metadata": {},
   "outputs": [
    {
     "name": "stdout",
     "output_type": "stream",
     "text": [
      "Model: \"MNIST_classifier\"\n",
      "_________________________________________________________________\n",
      " Layer (type)                Output Shape              Param #   \n",
      "=================================================================\n",
      " Flatten (Flatten)           (None, 784)               0         \n",
      "                                                                 \n",
      " hidden (Dense)              (None, 300)               235500    \n",
      "                                                                 \n",
      " out (Dense)                 (None, 10)                3010      \n",
      "                                                                 \n",
      "=================================================================\n",
      "Total params: 238,510\n",
      "Trainable params: 238,510\n",
      "Non-trainable params: 0\n",
      "_________________________________________________________________\n"
     ]
    }
   ],
   "source": [
    "input_layer = keras.Input(shape=(28,28), name='Input')\n",
    "flatten_layer = keras.layers.Flatten(name='Flatten')\n",
    "hidden_layer = keras.layers.Dense(300, activation='relu', name='hidden')\n",
    "out_layer = keras.layers.Dense(10, name='out')\n",
    "model = keras.Sequential([input_layer, flatten_layer, hidden_layer, out_layer], name='MNIST_classifier')\n",
    "model.summary()\n",
    "model.compile(\n",
    "    loss=keras.losses.MeanSquaredError(),\n",
    "    optimizer=keras.optimizers.Adam(learning_rate=1e-3)\n",
    ")"
   ]
  },
  {
   "attachments": {},
   "cell_type": "markdown",
   "metadata": {},
   "source": [
    "We can now train the model on the training data:"
   ]
  },
  {
   "cell_type": "code",
   "execution_count": 24,
   "metadata": {},
   "outputs": [
    {
     "name": "stdout",
     "output_type": "stream",
     "text": [
      "Epoch 1/10\n",
      "2000/2000 [==============================] - 7s 3ms/step - loss: 0.0174\n",
      "Epoch 2/10\n",
      "2000/2000 [==============================] - 6s 3ms/step - loss: 0.0096\n",
      "Epoch 3/10\n",
      "2000/2000 [==============================] - 7s 3ms/step - loss: 0.0081\n",
      "Epoch 4/10\n",
      "2000/2000 [==============================] - 6s 3ms/step - loss: 0.0072\n",
      "Epoch 5/10\n",
      "2000/2000 [==============================] - 5s 3ms/step - loss: 0.0066\n",
      "Epoch 6/10\n",
      "2000/2000 [==============================] - 5s 3ms/step - loss: 0.0061\n",
      "Epoch 7/10\n",
      "2000/2000 [==============================] - 6s 3ms/step - loss: 0.0057\n",
      "Epoch 8/10\n",
      "2000/2000 [==============================] - 6s 3ms/step - loss: 0.0054\n",
      "Epoch 9/10\n",
      "2000/2000 [==============================] - 6s 3ms/step - loss: 0.0051\n",
      "Epoch 10/10\n",
      "2000/2000 [==============================] - 6s 3ms/step - loss: 0.0049\n"
     ]
    },
    {
     "data": {
      "text/plain": [
       "<keras.callbacks.History at 0x1d18d6d1c40>"
      ]
     },
     "execution_count": 24,
     "metadata": {},
     "output_type": "execute_result"
    }
   ],
   "source": [
    "model.fit(\n",
    "    x=norm_train_images,\n",
    "    y=train_labels_vec,\n",
    "    batch_size=30,\n",
    "    epochs=10,\n",
    ")"
   ]
  },
  {
   "attachments": {},
   "cell_type": "markdown",
   "metadata": {},
   "source": [
    "Time to make some predictions!"
   ]
  },
  {
   "cell_type": "code",
   "execution_count": 26,
   "metadata": {},
   "outputs": [],
   "source": [
    "def model_prediction(model, image):\n",
    "    model_raw_output = model(np.array([image])).numpy()\n",
    "    normalized_output = (model_raw_output - np.amin(model_raw_output))/(np.amax(model_raw_output) - np.amin(model_raw_output))\n",
    "    predicted_value = np.argmax(normalized_output)\n",
    "    return predicted_value\n"
   ]
  },
  {
   "cell_type": "code",
   "execution_count": 28,
   "metadata": {},
   "outputs": [
    {
     "name": "stdout",
     "output_type": "stream",
     "text": [
      "Test accuracy: 0.978\n"
     ]
    }
   ],
   "source": [
    "count = 0\n",
    "for test_image, test_label in zip(test_images, test_labels):\n",
    "    if model_prediction(model, test_image) == test_label:\n",
    "        count += 1\n",
    "\n",
    "acc = count/len(test_labels)\n",
    "print(f'Test accuracy: {acc:.3f}')"
   ]
  },
  {
   "attachments": {},
   "cell_type": "markdown",
   "metadata": {},
   "source": [
    "Pretty good! Can we improve this result? Let's train some more..."
   ]
  },
  {
   "cell_type": "code",
   "execution_count": 29,
   "metadata": {},
   "outputs": [
    {
     "name": "stdout",
     "output_type": "stream",
     "text": [
      "Epoch 1/30\n",
      "2000/2000 [==============================] - 6s 3ms/step - loss: 0.0047\n",
      "Epoch 2/30\n",
      "2000/2000 [==============================] - 5s 2ms/step - loss: 0.0046\n",
      "Epoch 3/30\n",
      "2000/2000 [==============================] - 4s 2ms/step - loss: 0.0044\n",
      "Epoch 4/30\n",
      "2000/2000 [==============================] - 5s 2ms/step - loss: 0.0042\n",
      "Epoch 5/30\n",
      "2000/2000 [==============================] - 6s 3ms/step - loss: 0.0041\n",
      "Epoch 6/30\n",
      "2000/2000 [==============================] - 5s 3ms/step - loss: 0.0040\n",
      "Epoch 7/30\n",
      "2000/2000 [==============================] - 5s 3ms/step - loss: 0.0039\n",
      "Epoch 8/30\n",
      "2000/2000 [==============================] - 5s 3ms/step - loss: 0.0038\n",
      "Epoch 9/30\n",
      "2000/2000 [==============================] - 6s 3ms/step - loss: 0.0037\n",
      "Epoch 10/30\n",
      "2000/2000 [==============================] - 5s 2ms/step - loss: 0.0036\n",
      "Epoch 11/30\n",
      "2000/2000 [==============================] - 6s 3ms/step - loss: 0.0035\n",
      "Epoch 12/30\n",
      "2000/2000 [==============================] - 6s 3ms/step - loss: 0.0035\n",
      "Epoch 13/30\n",
      "2000/2000 [==============================] - 5s 2ms/step - loss: 0.0034\n",
      "Epoch 14/30\n",
      "2000/2000 [==============================] - 5s 2ms/step - loss: 0.0033\n",
      "Epoch 15/30\n",
      "2000/2000 [==============================] - 5s 2ms/step - loss: 0.0032\n",
      "Epoch 16/30\n",
      "2000/2000 [==============================] - 5s 3ms/step - loss: 0.0032\n",
      "Epoch 17/30\n",
      "2000/2000 [==============================] - 5s 3ms/step - loss: 0.0031\n",
      "Epoch 18/30\n",
      "2000/2000 [==============================] - 5s 2ms/step - loss: 0.0031\n",
      "Epoch 19/30\n",
      "2000/2000 [==============================] - 5s 2ms/step - loss: 0.0030\n",
      "Epoch 20/30\n",
      "2000/2000 [==============================] - 6s 3ms/step - loss: 0.0030\n",
      "Epoch 21/30\n",
      "2000/2000 [==============================] - 6s 3ms/step - loss: 0.0030\n",
      "Epoch 22/30\n",
      "2000/2000 [==============================] - 5s 3ms/step - loss: 0.0029\n",
      "Epoch 23/30\n",
      "2000/2000 [==============================] - 5s 3ms/step - loss: 0.0029\n",
      "Epoch 24/30\n",
      "2000/2000 [==============================] - 5s 2ms/step - loss: 0.0028\n",
      "Epoch 25/30\n",
      "2000/2000 [==============================] - 5s 2ms/step - loss: 0.0028\n",
      "Epoch 26/30\n",
      "2000/2000 [==============================] - 5s 2ms/step - loss: 0.0028\n",
      "Epoch 27/30\n",
      "2000/2000 [==============================] - 5s 2ms/step - loss: 0.0027\n",
      "Epoch 28/30\n",
      "2000/2000 [==============================] - 5s 2ms/step - loss: 0.0027\n",
      "Epoch 29/30\n",
      "2000/2000 [==============================] - 5s 2ms/step - loss: 0.0026\n",
      "Epoch 30/30\n",
      "2000/2000 [==============================] - 5s 2ms/step - loss: 0.0026\n"
     ]
    },
    {
     "data": {
      "text/plain": [
       "<keras.callbacks.History at 0x1d18d6d3a00>"
      ]
     },
     "execution_count": 29,
     "metadata": {},
     "output_type": "execute_result"
    }
   ],
   "source": [
    "model.fit(\n",
    "    x=norm_train_images,\n",
    "    y=train_labels_vec,\n",
    "    batch_size=30,\n",
    "    epochs=30,\n",
    ")"
   ]
  },
  {
   "cell_type": "code",
   "execution_count": 30,
   "metadata": {},
   "outputs": [
    {
     "name": "stdout",
     "output_type": "stream",
     "text": [
      "Test accuracy: 0.974\n"
     ]
    }
   ],
   "source": [
    "count = 0\n",
    "for test_image, test_label in zip(test_images, test_labels):\n",
    "    if model_prediction(model, test_image) == test_label:\n",
    "        count += 1\n",
    "\n",
    "acc = count/len(test_labels)\n",
    "print(f'Test accuracy: {acc:.3f}')"
   ]
  },
  {
   "attachments": {},
   "cell_type": "markdown",
   "metadata": {},
   "source": [
    "Further training actually WORSENED our results! This is a clear sign of overfitting. Let's train some more and see."
   ]
  },
  {
   "cell_type": "code",
   "execution_count": 31,
   "metadata": {},
   "outputs": [
    {
     "name": "stdout",
     "output_type": "stream",
     "text": [
      "Epoch 1/60\n",
      "2000/2000 [==============================] - 6s 3ms/step - loss: 0.0026\n",
      "Epoch 2/60\n",
      "2000/2000 [==============================] - 5s 2ms/step - loss: 0.0026\n",
      "Epoch 3/60\n",
      "2000/2000 [==============================] - 4s 2ms/step - loss: 0.0025\n",
      "Epoch 4/60\n",
      "2000/2000 [==============================] - 7s 3ms/step - loss: 0.0025\n",
      "Epoch 5/60\n",
      "2000/2000 [==============================] - 10s 5ms/step - loss: 0.0025\n",
      "Epoch 6/60\n",
      "2000/2000 [==============================] - 5s 2ms/step - loss: 0.0025\n",
      "Epoch 7/60\n",
      "2000/2000 [==============================] - 4s 2ms/step - loss: 0.0024\n",
      "Epoch 8/60\n",
      "2000/2000 [==============================] - 4s 2ms/step - loss: 0.0024\n",
      "Epoch 9/60\n",
      "2000/2000 [==============================] - 4s 2ms/step - loss: 0.0024\n",
      "Epoch 10/60\n",
      "2000/2000 [==============================] - 4s 2ms/step - loss: 0.0024\n",
      "Epoch 11/60\n",
      "2000/2000 [==============================] - 4s 2ms/step - loss: 0.0024\n",
      "Epoch 12/60\n",
      "2000/2000 [==============================] - 4s 2ms/step - loss: 0.0023\n",
      "Epoch 13/60\n",
      "2000/2000 [==============================] - 4s 2ms/step - loss: 0.0023\n",
      "Epoch 14/60\n",
      "2000/2000 [==============================] - 4s 2ms/step - loss: 0.0023\n",
      "Epoch 15/60\n",
      "2000/2000 [==============================] - 4s 2ms/step - loss: 0.0023\n",
      "Epoch 16/60\n",
      "2000/2000 [==============================] - 4s 2ms/step - loss: 0.0023\n",
      "Epoch 17/60\n",
      "2000/2000 [==============================] - 4s 2ms/step - loss: 0.0022\n",
      "Epoch 18/60\n",
      "2000/2000 [==============================] - 4s 2ms/step - loss: 0.0022\n",
      "Epoch 19/60\n",
      "2000/2000 [==============================] - 4s 2ms/step - loss: 0.0022\n",
      "Epoch 20/60\n",
      "2000/2000 [==============================] - 4s 2ms/step - loss: 0.0022\n",
      "Epoch 21/60\n",
      "2000/2000 [==============================] - 4s 2ms/step - loss: 0.0022\n",
      "Epoch 22/60\n",
      "2000/2000 [==============================] - 4s 2ms/step - loss: 0.0021\n",
      "Epoch 23/60\n",
      "2000/2000 [==============================] - 4s 2ms/step - loss: 0.0021\n",
      "Epoch 24/60\n",
      "2000/2000 [==============================] - 4s 2ms/step - loss: 0.0021\n",
      "Epoch 25/60\n",
      "2000/2000 [==============================] - 4s 2ms/step - loss: 0.0021\n",
      "Epoch 26/60\n",
      "2000/2000 [==============================] - 4s 2ms/step - loss: 0.0021\n",
      "Epoch 27/60\n",
      "2000/2000 [==============================] - 4s 2ms/step - loss: 0.0021\n",
      "Epoch 28/60\n",
      "2000/2000 [==============================] - 4s 2ms/step - loss: 0.0021\n",
      "Epoch 29/60\n",
      "2000/2000 [==============================] - 4s 2ms/step - loss: 0.0021\n",
      "Epoch 30/60\n",
      "2000/2000 [==============================] - 4s 2ms/step - loss: 0.0020\n",
      "Epoch 31/60\n",
      "2000/2000 [==============================] - 6s 3ms/step - loss: 0.0020\n",
      "Epoch 32/60\n",
      "2000/2000 [==============================] - 10s 5ms/step - loss: 0.0020\n",
      "Epoch 33/60\n",
      "2000/2000 [==============================] - 9s 5ms/step - loss: 0.0020\n",
      "Epoch 34/60\n",
      "2000/2000 [==============================] - 7s 4ms/step - loss: 0.0020\n",
      "Epoch 35/60\n",
      "2000/2000 [==============================] - 6s 3ms/step - loss: 0.0020\n",
      "Epoch 36/60\n",
      "2000/2000 [==============================] - 5s 2ms/step - loss: 0.0020\n",
      "Epoch 37/60\n",
      "2000/2000 [==============================] - 5s 2ms/step - loss: 0.0019\n",
      "Epoch 38/60\n",
      "2000/2000 [==============================] - 5s 2ms/step - loss: 0.0019\n",
      "Epoch 39/60\n",
      "2000/2000 [==============================] - 5s 2ms/step - loss: 0.0019\n",
      "Epoch 40/60\n",
      "2000/2000 [==============================] - 4s 2ms/step - loss: 0.0019\n",
      "Epoch 41/60\n",
      "2000/2000 [==============================] - 4s 2ms/step - loss: 0.0019\n",
      "Epoch 42/60\n",
      "2000/2000 [==============================] - 4s 2ms/step - loss: 0.0019\n",
      "Epoch 43/60\n",
      "2000/2000 [==============================] - 4s 2ms/step - loss: 0.0019\n",
      "Epoch 44/60\n",
      "2000/2000 [==============================] - 4s 2ms/step - loss: 0.0019\n",
      "Epoch 45/60\n",
      "2000/2000 [==============================] - 4s 2ms/step - loss: 0.0019\n",
      "Epoch 46/60\n",
      "2000/2000 [==============================] - 4s 2ms/step - loss: 0.0019\n",
      "Epoch 47/60\n",
      "2000/2000 [==============================] - 4s 2ms/step - loss: 0.0018\n",
      "Epoch 48/60\n",
      "2000/2000 [==============================] - 4s 2ms/step - loss: 0.0018\n",
      "Epoch 49/60\n",
      "2000/2000 [==============================] - 4s 2ms/step - loss: 0.0018\n",
      "Epoch 50/60\n",
      "2000/2000 [==============================] - 4s 2ms/step - loss: 0.0018\n",
      "Epoch 51/60\n",
      "2000/2000 [==============================] - 4s 2ms/step - loss: 0.0018\n",
      "Epoch 52/60\n",
      "2000/2000 [==============================] - 4s 2ms/step - loss: 0.0018\n",
      "Epoch 53/60\n",
      "2000/2000 [==============================] - 4s 2ms/step - loss: 0.0018\n",
      "Epoch 54/60\n",
      "2000/2000 [==============================] - 4s 2ms/step - loss: 0.0018\n",
      "Epoch 55/60\n",
      "2000/2000 [==============================] - 4s 2ms/step - loss: 0.0018\n",
      "Epoch 56/60\n",
      "2000/2000 [==============================] - 4s 2ms/step - loss: 0.0018\n",
      "Epoch 57/60\n",
      "2000/2000 [==============================] - 4s 2ms/step - loss: 0.0018\n",
      "Epoch 58/60\n",
      "2000/2000 [==============================] - 4s 2ms/step - loss: 0.0018\n",
      "Epoch 59/60\n",
      "2000/2000 [==============================] - 4s 2ms/step - loss: 0.0017\n",
      "Epoch 60/60\n",
      "2000/2000 [==============================] - 4s 2ms/step - loss: 0.0017\n"
     ]
    },
    {
     "data": {
      "text/plain": [
       "<keras.callbacks.History at 0x1d18d6d3bb0>"
      ]
     },
     "execution_count": 31,
     "metadata": {},
     "output_type": "execute_result"
    }
   ],
   "source": [
    "model.fit(\n",
    "    x=norm_train_images,\n",
    "    y=train_labels_vec,\n",
    "    batch_size=30,\n",
    "    epochs=60,\n",
    ")"
   ]
  },
  {
   "cell_type": "code",
   "execution_count": 32,
   "metadata": {},
   "outputs": [
    {
     "name": "stdout",
     "output_type": "stream",
     "text": [
      "Test accuracy: 0.954\n"
     ]
    }
   ],
   "source": [
    "count = 0\n",
    "for test_image, test_label in zip(test_images, test_labels):\n",
    "    if model_prediction(model, test_image) == test_label:\n",
    "        count += 1\n",
    "\n",
    "acc = count/len(test_labels)\n",
    "print(f'Test accuracy: {acc:.3f}')"
   ]
  },
  {
   "attachments": {},
   "cell_type": "markdown",
   "metadata": {},
   "source": [
    "Clearly overfitting! How do we prevent overfitting? Regularization!"
   ]
  },
  {
   "cell_type": "code",
   "execution_count": 53,
   "metadata": {},
   "outputs": [
    {
     "name": "stdout",
     "output_type": "stream",
     "text": [
      "Model: \"MNIST_classifier\"\n",
      "_________________________________________________________________\n",
      " Layer (type)                Output Shape              Param #   \n",
      "=================================================================\n",
      " Flatten (Flatten)           (None, 784)               0         \n",
      "                                                                 \n",
      " hidden (Dense)              (None, 300)               235500    \n",
      "                                                                 \n",
      " out (Dense)                 (None, 10)                3010      \n",
      "                                                                 \n",
      "=================================================================\n",
      "Total params: 238,510\n",
      "Trainable params: 238,510\n",
      "Non-trainable params: 0\n",
      "_________________________________________________________________\n"
     ]
    }
   ],
   "source": [
    "input_layer = keras.Input(shape=(28,28), name='Input')\n",
    "flatten_layer = keras.layers.Flatten(name='Flatten')\n",
    "hidden_layer = keras.layers.Dense(300, activation='relu', kernel_regularizer=keras.regularizers.l1_l2(l1=1e-5, l2=9e-5), name='hidden')\n",
    "out_layer = keras.layers.Dense(10, name='out')\n",
    "model = keras.Sequential([input_layer, flatten_layer, hidden_layer, out_layer], name='MNIST_classifier')\n",
    "model.summary()\n",
    "model.compile(\n",
    "    loss=keras.losses.MeanSquaredError(),\n",
    "    optimizer=keras.optimizers.Adam(learning_rate=1e-3)\n",
    ")"
   ]
  },
  {
   "attachments": {},
   "cell_type": "markdown",
   "metadata": {},
   "source": [
    "We can also do some learning rate decay"
   ]
  },
  {
   "cell_type": "code",
   "execution_count": 59,
   "metadata": {},
   "outputs": [],
   "source": [
    "def learning_decay(epoch, learning_rate):\n",
    "    if epoch != 0 and epoch % 8 == 0:\n",
    "        return learning_rate/3\n",
    "    else:\n",
    "        return learning_rate\n",
    "learning_scheduler = keras.callbacks.LearningRateScheduler(learning_decay)"
   ]
  },
  {
   "cell_type": "code",
   "execution_count": 60,
   "metadata": {},
   "outputs": [
    {
     "name": "stdout",
     "output_type": "stream",
     "text": [
      "Epoch 1/15\n",
      "2000/2000 [==============================] - 5s 3ms/step - loss: 0.0109 - lr: 1.2346e-05\n",
      "Epoch 2/15\n",
      "2000/2000 [==============================] - 5s 2ms/step - loss: 0.0109 - lr: 1.2346e-05\n",
      "Epoch 3/15\n",
      "2000/2000 [==============================] - 5s 2ms/step - loss: 0.0109 - lr: 1.2346e-05\n",
      "Epoch 4/15\n",
      "2000/2000 [==============================] - 5s 3ms/step - loss: 0.0109 - lr: 1.2346e-05\n",
      "Epoch 5/15\n",
      "2000/2000 [==============================] - 5s 3ms/step - loss: 0.0109 - lr: 1.2346e-05\n",
      "Epoch 6/15\n",
      "2000/2000 [==============================] - 5s 3ms/step - loss: 0.0109 - lr: 1.2346e-05\n",
      "Epoch 7/15\n",
      "2000/2000 [==============================] - 5s 3ms/step - loss: 0.0109 - lr: 1.2346e-05\n",
      "Epoch 8/15\n",
      "2000/2000 [==============================] - 5s 3ms/step - loss: 0.0109 - lr: 1.2346e-05\n",
      "Epoch 9/15\n",
      "2000/2000 [==============================] - 5s 3ms/step - loss: 0.0108 - lr: 4.1152e-06\n",
      "Epoch 10/15\n",
      "2000/2000 [==============================] - 5s 3ms/step - loss: 0.0108 - lr: 4.1152e-06\n",
      "Epoch 11/15\n",
      "2000/2000 [==============================] - 5s 3ms/step - loss: 0.0108 - lr: 4.1152e-06\n",
      "Epoch 12/15\n",
      "2000/2000 [==============================] - 5s 3ms/step - loss: 0.0108 - lr: 4.1152e-06\n",
      "Epoch 13/15\n",
      "2000/2000 [==============================] - 5s 3ms/step - loss: 0.0108 - lr: 4.1152e-06\n",
      "Epoch 14/15\n",
      "2000/2000 [==============================] - 5s 3ms/step - loss: 0.0108 - lr: 4.1152e-06\n",
      "Epoch 15/15\n",
      "2000/2000 [==============================] - 5s 3ms/step - loss: 0.0108 - lr: 4.1152e-06\n"
     ]
    },
    {
     "data": {
      "text/plain": [
       "<keras.callbacks.History at 0x1d1842bc1f0>"
      ]
     },
     "execution_count": 60,
     "metadata": {},
     "output_type": "execute_result"
    }
   ],
   "source": [
    "model.fit(\n",
    "    x=norm_train_images,\n",
    "    y=train_labels_vec,\n",
    "    batch_size=30,\n",
    "    epochs=15,\n",
    "    callbacks=[learning_scheduler]\n",
    ")"
   ]
  },
  {
   "cell_type": "code",
   "execution_count": 61,
   "metadata": {},
   "outputs": [
    {
     "name": "stdout",
     "output_type": "stream",
     "text": [
      "Test accuracy: 0.934\n"
     ]
    }
   ],
   "source": [
    "count = 0\n",
    "for test_image, test_label in zip(test_images, test_labels):\n",
    "    if model_prediction(model, test_image) == test_label:\n",
    "        count += 1\n",
    "\n",
    "acc = count/len(test_labels)\n",
    "print(f'Test accuracy: {acc:.3f}')"
   ]
  },
  {
   "cell_type": "code",
   "execution_count": null,
   "metadata": {},
   "outputs": [],
   "source": []
  }
 ],
 "metadata": {
  "kernelspec": {
   "display_name": "cocoa",
   "language": "python",
   "name": "python3"
  },
  "language_info": {
   "codemirror_mode": {
    "name": "ipython",
    "version": 3
   },
   "file_extension": ".py",
   "mimetype": "text/x-python",
   "name": "python",
   "nbconvert_exporter": "python",
   "pygments_lexer": "ipython3",
   "version": "3.8.5"
  },
  "orig_nbformat": 4
 },
 "nbformat": 4,
 "nbformat_minor": 2
}
