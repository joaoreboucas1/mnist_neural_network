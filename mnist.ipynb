{
 "cells": [
  {
   "attachments": {},
   "cell_type": "markdown",
   "metadata": {},
   "source": [
    "# MNIST Analysis\n",
    "The MNIST data files can be downloaded from [this website](http://yann.lecun.com/exdb/mnist/). One little detail: the data files are in the `.idx` format. Fortunately, there is a Python utility we can use to convert the data to `numpy` arrays: the `idx2numpy` library."
   ]
  },
  {
   "cell_type": "code",
   "execution_count": 27,
   "metadata": {},
   "outputs": [],
   "source": [
    "import numpy as np\n",
    "import matplotlib.pyplot as plt\n",
    "import keras\n",
    "import idx2numpy"
   ]
  },
  {
   "cell_type": "code",
   "execution_count": 14,
   "metadata": {},
   "outputs": [],
   "source": [
    "train_images = idx2numpy.convert_from_file('./data/train-images-idx3-ubyte/train-images.idx3-ubyte')\n",
    "train_labels = idx2numpy.convert_from_file('./data/train-labels-idx1-ubyte/train-labels.idx1-ubyte')\n",
    "test_images = idx2numpy.convert_from_file('./data/t10k-images-idx3-ubyte/t10k-images.idx3-ubyte')\n",
    "test_labels = idx2numpy.convert_from_file('./data/t10k-labels-idx1-ubyte/t10k-labels.idx1-ubyte')"
   ]
  },
  {
   "cell_type": "code",
   "execution_count": 124,
   "metadata": {},
   "outputs": [],
   "source": [
    "norm_train_images = train_images/255"
   ]
  },
  {
   "cell_type": "code",
   "execution_count": 98,
   "metadata": {},
   "outputs": [],
   "source": [
    "# Turning the labels into NN outputs\n",
    "train_labels_vec = np.zeros((len(train_labels), 10))\n",
    "for i, label in enumerate(train_labels):\n",
    "    train_labels_vec[i, label-1] = 1"
   ]
  },
  {
   "cell_type": "code",
   "execution_count": 86,
   "metadata": {},
   "outputs": [],
   "source": [
    "# Structuring train data\n",
    "train_data = {}\n",
    "for i, (train_image, train_label) in enumerate(zip(train_images, train_labels)):\n",
    "    vec_label = np.zeros((10))\n",
    "    vec_label[train_label-1] = 1\n",
    "    train_data[i] = {'img': train_image, 'label': train_label, 'out': vec_label}"
   ]
  },
  {
   "cell_type": "code",
   "execution_count": 85,
   "metadata": {},
   "outputs": [],
   "source": [
    "# Structuring test data\n",
    "test_data = {}\n",
    "for i, (test_image, test_label) in enumerate(zip(test_images, test_labels)):\n",
    "    vec_label = np.zeros((10))\n",
    "    vec_label[test_label-1] = 1\n",
    "    test_data[i] = {'img': test_image, 'label': test_label, 'out': vec_label}"
   ]
  },
  {
   "cell_type": "code",
   "execution_count": 88,
   "metadata": {},
   "outputs": [
    {
     "data": {
      "image/png": "[encoded data removed]",
      "text/plain": [
       "<Figure size 640x480 with 1 Axes>"
      ]
     },
     "metadata": {},
     "output_type": "display_data"
    }
   ],
   "source": [
    "# I want to be able to visualize the images\n",
    "i = 15\n",
    "plt.imshow(test_data[i]['img'], cmap='gray_r')\n",
    "plt.title(f\"Label: {test_data[i]['label']}\")\n",
    "plt.show()"
   ]
  },
  {
   "attachments": {},
   "cell_type": "markdown",
   "metadata": {},
   "source": [
    "Now, we can start defining a model. In the MNIST website, there is a table with different models and scores. Let's use one of them: the 2-layer NN, 300 hidden units, mean square error, which obtains a test error rate of 4.9%."
   ]
  },
  {
   "cell_type": "code",
   "execution_count": 127,
   "metadata": {},
   "outputs": [
    {
     "name": "stdout",
     "output_type": "stream",
     "text": [
      "Model: \"MNIST_classifier\"\n",
      "_________________________________________________________________\n",
      " Layer (type)                Output Shape              Param #   \n",
      "=================================================================\n",
      " Flatten (Flatten)           (None, 784)               0         \n",
      "                                                                 \n",
      " hidden (Dense)              (None, 300)               235500    \n",
      "                                                                 \n",
      " out (Dense)                 (None, 10)                3010      \n",
      "                                                                 \n",
      "=================================================================\n",
      "Total params: 238,510\n",
      "Trainable params: 238,510\n",
      "Non-trainable params: 0\n",
      "_________________________________________________________________\n"
     ]
    }
   ],
   "source": [
    "input_layer = keras.Input(shape=(28,28), name='Input')\n",
    "flatten_layer = keras.layers.Flatten(name='Flatten')\n",
    "hidden_layer = keras.layers.Dense(300, activation='relu', name='hidden')\n",
    "out_layer = keras.layers.Dense(10, name='out')\n",
    "model = keras.Sequential([input_layer, flatten_layer, hidden_layer, out_layer], name='MNIST_classifier')\n",
    "model.summary()\n",
    "model.compile(\n",
    "    loss=keras.losses.MeanSquaredError(),\n",
    "    optimizer=keras.optimizers.Adam(learning_rate=1e-3)\n",
    ")"
   ]
  },
  {
   "attachments": {},
   "cell_type": "markdown",
   "metadata": {},
   "source": [
    "We can now train the model on the training data:"
   ]
  },
  {
   "cell_type": "code",
   "execution_count": 129,
   "metadata": {},
   "outputs": [
    {
     "name": "stdout",
     "output_type": "stream",
     "text": [
      "Epoch 1/10\n",
      "2000/2000 [==============================] - 4s 2ms/step - loss: 0.0047\n",
      "Epoch 2/10\n",
      "2000/2000 [==============================] - 4s 2ms/step - loss: 0.0045\n",
      "Epoch 3/10\n",
      "2000/2000 [==============================] - 4s 2ms/step - loss: 0.0043\n",
      "Epoch 4/10\n",
      "2000/2000 [==============================] - 4s 2ms/step - loss: 0.0042\n",
      "Epoch 5/10\n",
      "2000/2000 [==============================] - 4s 2ms/step - loss: 0.0041\n",
      "Epoch 6/10\n",
      "2000/2000 [==============================] - 4s 2ms/step - loss: 0.0039\n",
      "Epoch 7/10\n",
      "2000/2000 [==============================] - 4s 2ms/step - loss: 0.0038\n",
      "Epoch 8/10\n",
      "2000/2000 [==============================] - 4s 2ms/step - loss: 0.0037\n",
      "Epoch 9/10\n",
      "2000/2000 [==============================] - 5s 2ms/step - loss: 0.0037\n",
      "Epoch 10/10\n",
      "2000/2000 [==============================] - 4s 2ms/step - loss: 0.0036\n"
     ]
    },
    {
     "data": {
      "text/plain": [
       "<keras.callbacks.History at 0x28e0ea01790>"
      ]
     },
     "execution_count": 129,
     "metadata": {},
     "output_type": "execute_result"
    }
   ],
   "source": [
    "model.fit(\n",
    "    x=norm_train_images,\n",
    "    y=train_labels_vec,\n",
    "    batch_size=30,\n",
    "    epochs=10,\n",
    ")"
   ]
  },
  {
   "cell_type": "code",
   "execution_count": 121,
   "metadata": {},
   "outputs": [
    {
     "data": {
      "text/plain": [
       "array([[0.11116392, 0.08867612, 0.11549872, 0.11999615, 0.09101544,\n",
       "        0.08919667, 0.09439687, 0.10780614, 0.09329119, 0.08731483]],\n",
       "      dtype=float32)"
      ]
     },
     "execution_count": 121,
     "metadata": {},
     "output_type": "execute_result"
    }
   ],
   "source": [
    "model(np.array([test_images[2]])).numpy()"
   ]
  },
  {
   "cell_type": "code",
   "execution_count": 130,
   "metadata": {},
   "outputs": [],
   "source": [
    "def model_prediction(model, image):\n",
    "    model_raw_output = model(np.array([image])).numpy()\n",
    "    predicted_value = np.argmax(model_raw_output) + 1\n",
    "    return predicted_value\n"
   ]
  },
  {
   "cell_type": "code",
   "execution_count": 135,
   "metadata": {},
   "outputs": [
    {
     "name": "stdout",
     "output_type": "stream",
     "text": [
      "Test accuracy: 0.88\n"
     ]
    }
   ],
   "source": [
    "count = 0\n",
    "for test_image, test_label in zip(test_images, test_labels):\n",
    "    if model_prediction(model, test_image) == test_label:\n",
    "        count += 1\n",
    "\n",
    "acc = count/len(test_labels)\n",
    "print(f'Test accuracy: {acc:.2f}')"
   ]
  },
  {
   "cell_type": "code",
   "execution_count": null,
   "metadata": {},
   "outputs": [],
   "source": []
  }
 ],
 "metadata": {
  "kernelspec": {
   "display_name": "cocoa",
   "language": "python",
   "name": "python3"
  },
  "language_info": {
   "codemirror_mode": {
    "name": "ipython",
    "version": 3
   },
   "file_extension": ".py",
   "mimetype": "text/x-python",
   "name": "python",
   "nbconvert_exporter": "python",
   "pygments_lexer": "ipython3",
   "version": "3.8.5"
  },
  "orig_nbformat": 4
 },
 "nbformat": 4,
 "nbformat_minor": 2
}
